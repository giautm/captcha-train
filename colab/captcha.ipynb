{
  "nbformat": 4,
  "nbformat_minor": 0,
  "metadata": {
    "accelerator": "GPU",
    "colab": {
      "name": "Captcha2.ipynb",
      "provenance": [],
      "collapsed_sections": []
    },
    "kernelspec": {
      "display_name": "Python 3",
      "name": "python3"
    }
  },
  "cells": [
    {
      "cell_type": "code",
      "source": [
        "from google.colab import drive\n",
        "drive.mount('/content/drive')"
      ],
      "metadata": {
        "id": "t9JL5SiCj_xw",
        "outputId": "25b9e0e3-3e25-443d-8fa3-9a6519741e4a",
        "colab": {
          "base_uri": "https://localhost:8080/"
        }
      },
      "execution_count": 3,
      "outputs": [
        {
          "output_type": "stream",
          "name": "stdout",
          "text": [
            "Drive already mounted at /content/drive; to attempt to forcibly remount, call drive.mount(\"/content/drive\", force_remount=True).\n"
          ]
        }
      ]
    },
    {
      "cell_type": "markdown",
      "metadata": {
        "id": "qkme2V-K-k7n"
      },
      "source": [
        "Mount data từ Google Drive và giải nén vào folder đích"
      ]
    },
    {
      "cell_type": "code",
      "metadata": {
        "colab": {
          "base_uri": "https://localhost:8080/"
        },
        "id": "5hJVJ4Wcb0Dz",
        "outputId": "b8a8c53a-5a88-4cb8-f919-05d55659a688"
      },
      "source": [
        "%rm -rf /content/__MACOSX\n",
        "%rm -rf /content/data\n",
        "%mkdir /content/data\n",
        "\n",
        "!unzip -qq /content/drive/MyDrive/captcha/debug-10k.zip\n",
        "%mv /content/debug-10k /content/data/train\n",
        "!echo \"Done train Data\"\n",
        "\n",
        "!unzip -qq /content/drive/MyDrive/captcha/debug-2k.zip\n",
        "%mv /content/debug-2k /content/data/validation\n",
        "!echo \"Done validation Data\"\n",
        "\n",
        "%rm -rf /content/__MACOSX"
      ],
      "execution_count": 4,
      "outputs": [
        {
          "output_type": "stream",
          "name": "stdout",
          "text": [
            "Done train Data\n",
            "Done validation Data\n"
          ]
        }
      ]
    },
    {
      "cell_type": "markdown",
      "metadata": {
        "id": "k9wHT3Lob40T"
      },
      "source": [
        "Load dataset vào bộ nhớ để chia thành 2 tập train và validation"
      ]
    },
    {
      "cell_type": "code",
      "metadata": {
        "colab": {
          "base_uri": "https://localhost:8080/"
        },
        "id": "tho97o49bs8J",
        "outputId": "275e0065-99dc-436a-f468-da5d35f90219"
      },
      "source": [
        "import tensorflow as tf\n",
        "from tensorflow.keras import preprocessing\n",
        "\n",
        "BATCH_SIZE = 128\n",
        "COLOR_MODE = \"rgba\"\n",
        "IMG_HEIGHT = 50\n",
        "IMG_WIDTH = 180\n",
        "\n",
        "train_ds = preprocessing.image_dataset_from_directory(\n",
        "  directory=\"data/train\",\n",
        "  label_mode=\"categorical\",\n",
        "  seed=123,\n",
        "  color_mode=COLOR_MODE,\n",
        "  image_size=(IMG_HEIGHT, IMG_WIDTH),\n",
        "  batch_size=BATCH_SIZE)\n",
        "\n",
        "validation_ds = preprocessing.image_dataset_from_directory(\n",
        "  directory=\"data/validation\",\n",
        "  label_mode=\"categorical\",\n",
        "  seed=123,\n",
        "  color_mode=COLOR_MODE,\n",
        "  image_size=(IMG_HEIGHT, IMG_WIDTH),\n",
        "  batch_size=BATCH_SIZE)\n",
        "\n",
        "# Configure the dataset for performance\n",
        "def configure_for_performance(ds):\n",
        "    ds = ds.cache()\n",
        "    ds = ds.prefetch(buffer_size=tf.data.experimental.AUTOTUNE)\n",
        "    return ds\n",
        "\n",
        "train_ds = configure_for_performance(train_ds)\n",
        "validation_ds = configure_for_performance(validation_ds)"
      ],
      "execution_count": 5,
      "outputs": [
        {
          "output_type": "stream",
          "name": "stdout",
          "text": [
            "Found 45786 files belonging to 23 classes.\n",
            "Found 9201 files belonging to 23 classes.\n"
          ]
        }
      ]
    },
    {
      "cell_type": "code",
      "metadata": {
        "colab": {
          "base_uri": "https://localhost:8080/"
        },
        "id": "e4mK4vqTcEPV",
        "outputId": "2beb4db0-3a93-42b0-f93d-ca867cba4c7b"
      },
      "source": [
        "from tensorflow.keras import layers\n",
        "from tensorflow.keras import losses\n",
        "from tensorflow.keras import optimizers\n",
        "from tensorflow.keras import Sequential\n",
        "\n",
        "MODEL_OUTPUT_DIR=\"/content/drive/MyDrive/captcha/captcha-model\"\n",
        "CLASS_NO = 23\n",
        "EPOCHS = 120\n",
        "\n",
        "def get_model():\n",
        "    m = Sequential([\n",
        "      layers.experimental.preprocessing.Rescaling(1./255, name=\"rescaling\"),\n",
        "\n",
        "      layers.Conv2D(32, (3, 3), padding=\"same\", input_shape=(IMG_HEIGHT, IMG_WIDTH, 1)),\n",
        "      layers.MaxPooling2D(pool_size=(2, 2), strides=(2, 2)),\n",
        "      layers.Conv2D(64, (3, 3), padding=\"same\"),\n",
        "      layers.MaxPooling2D(pool_size=(2, 2), strides=(2, 2)),\n",
        "      layers.Conv2D(128, (3, 3), padding=\"same\"),\n",
        "      layers.Conv2D(64, (1, 1), padding=\"same\"),\n",
        "      layers.Conv2D(128, (3, 3), padding=\"same\"),\n",
        "      layers.MaxPooling2D(pool_size=(2, 2), strides=(2, 2)),\n",
        "      layers.Conv2D(256, (3, 3), padding=\"same\"),\n",
        "      layers.Conv2D(128, (1, 1), padding=\"same\"),\n",
        "      layers.Conv2D(256, (3, 3), padding=\"same\"),\n",
        "      layers.Conv2D(128, (1, 1), padding=\"same\"),\n",
        "      layers.Conv2D(256, (3, 3), padding=\"same\"),\n",
        "      layers.MaxPooling2D(pool_size=(2, 2), strides=(2, 2)),\n",
        "      layers.Conv2D(512, (3, 3), padding=\"same\"),\n",
        "      layers.Conv2D(256, (1, 1), padding=\"same\"),\n",
        "      layers.Conv2D(512, (3, 3), padding=\"same\"),\n",
        "      layers.Conv2D(256, (1, 1), padding=\"same\"),\n",
        "      layers.Conv2D(512, (3, 3), padding=\"same\"),\n",
        "      layers.Conv2D(256, (1, 1), padding=\"same\"),\n",
        "      layers.Conv2D(512, (3, 3), padding=\"same\"),\n",
        "      layers.MaxPooling2D(pool_size=(2, 2), strides=(2, 2)),\n",
        "      layers.Flatten(),\n",
        "      layers.Dropout(rate=0.5),\n",
        "      layers.Dense(CLASS_NO, activation=\"softmax\", name=\"output\"),\n",
        "    ])\n",
        "    m.compile(\n",
        "      loss=losses.CategoricalCrossentropy(),\n",
        "      metrics=['accuracy'],\n",
        "      optimizer=optimizers.Adam(learning_rate=0.00001),\n",
        "    )\n",
        "    return m\n",
        "\n",
        "model=get_model()\n",
        "model.fit(train_ds, epochs=EPOCHS, validation_data=validation_ds, verbose=1)\n",
        "model.summary()\n",
        "model.save(MODEL_OUTPUT_DIR)"
      ],
      "execution_count": 6,
      "outputs": [
        {
          "output_type": "stream",
          "name": "stdout",
          "text": [
            "358/358 [==============================] - 93s 221ms/step - loss: 3.1136 - accuracy: 0.0667 - val_loss: 3.0066 - val_accuracy: 0.1057\n",
            "Model: \"sequential\"\n",
            "_________________________________________________________________\n",
            " Layer (type)                Output Shape              Param #   \n",
            "=================================================================\n",
            " rescaling (Rescaling)       (None, 50, 180, 4)        0         \n",
            "                                                                 \n",
            " conv2d (Conv2D)             (None, 50, 180, 32)       1184      \n",
            "                                                                 \n",
            " max_pooling2d (MaxPooling2D  (None, 25, 90, 32)       0         \n",
            " )                                                               \n",
            "                                                                 \n",
            " conv2d_1 (Conv2D)           (None, 25, 90, 64)        18496     \n",
            "                                                                 \n",
            " max_pooling2d_1 (MaxPooling  (None, 12, 45, 64)       0         \n",
            " 2D)                                                             \n",
            "                                                                 \n",
            " conv2d_2 (Conv2D)           (None, 12, 45, 128)       73856     \n",
            "                                                                 \n",
            " conv2d_3 (Conv2D)           (None, 12, 45, 64)        8256      \n",
            "                                                                 \n",
            " conv2d_4 (Conv2D)           (None, 12, 45, 128)       73856     \n",
            "                                                                 \n",
            " max_pooling2d_2 (MaxPooling  (None, 6, 22, 128)       0         \n",
            " 2D)                                                             \n",
            "                                                                 \n",
            " conv2d_5 (Conv2D)           (None, 6, 22, 256)        295168    \n",
            "                                                                 \n",
            " conv2d_6 (Conv2D)           (None, 6, 22, 128)        32896     \n",
            "                                                                 \n",
            " conv2d_7 (Conv2D)           (None, 6, 22, 256)        295168    \n",
            "                                                                 \n",
            " conv2d_8 (Conv2D)           (None, 6, 22, 128)        32896     \n",
            "                                                                 \n",
            " conv2d_9 (Conv2D)           (None, 6, 22, 256)        295168    \n",
            "                                                                 \n",
            " max_pooling2d_3 (MaxPooling  (None, 3, 11, 256)       0         \n",
            " 2D)                                                             \n",
            "                                                                 \n",
            " conv2d_10 (Conv2D)          (None, 3, 11, 512)        1180160   \n",
            "                                                                 \n",
            " conv2d_11 (Conv2D)          (None, 3, 11, 256)        131328    \n",
            "                                                                 \n",
            " conv2d_12 (Conv2D)          (None, 3, 11, 512)        1180160   \n",
            "                                                                 \n",
            " conv2d_13 (Conv2D)          (None, 3, 11, 256)        131328    \n",
            "                                                                 \n",
            " conv2d_14 (Conv2D)          (None, 3, 11, 512)        1180160   \n",
            "                                                                 \n",
            " conv2d_15 (Conv2D)          (None, 3, 11, 256)        131328    \n",
            "                                                                 \n",
            " conv2d_16 (Conv2D)          (None, 3, 11, 512)        1180160   \n",
            "                                                                 \n",
            " max_pooling2d_4 (MaxPooling  (None, 1, 5, 512)        0         \n",
            " 2D)                                                             \n",
            "                                                                 \n",
            " flatten (Flatten)           (None, 2560)              0         \n",
            "                                                                 \n",
            " dropout (Dropout)           (None, 2560)              0         \n",
            "                                                                 \n",
            " output (Dense)              (None, 23)                58903     \n",
            "                                                                 \n",
            "=================================================================\n",
            "Total params: 6,300,471\n",
            "Trainable params: 6,300,471\n",
            "Non-trainable params: 0\n",
            "_________________________________________________________________\n",
            "INFO:tensorflow:Assets written to: /content/drive/MyDrive/captcha/captcha-model/assets\n"
          ]
        }
      ]
    },
    {
      "cell_type": "markdown",
      "source": [
        "Hiển thị thông tin các layers input/ouput"
      ],
      "metadata": {
        "id": "Dxkj9NEEklmJ"
      }
    },
    {
      "cell_type": "code",
      "source": [
        "!saved_model_cli show --dir /content/drive/MyDrive/captcha/captcha-model --tag_set serve --signature_def serving_default"
      ],
      "metadata": {
        "id": "iQwGB9iUkby7",
        "outputId": "ce3e8956-9a25-4ba0-a228-bf25e2b2b26a",
        "colab": {
          "base_uri": "https://localhost:8080/"
        }
      },
      "execution_count": 7,
      "outputs": [
        {
          "output_type": "stream",
          "name": "stdout",
          "text": [
            "The given SavedModel SignatureDef contains the following input(s):\n",
            "  inputs['rescaling_input'] tensor_info:\n",
            "      dtype: DT_FLOAT\n",
            "      shape: (-1, 50, 180, 4)\n",
            "      name: serving_default_rescaling_input:0\n",
            "The given SavedModel SignatureDef contains the following output(s):\n",
            "  outputs['output'] tensor_info:\n",
            "      dtype: DT_FLOAT\n",
            "      shape: (-1, 23)\n",
            "      name: StatefulPartitionedCall:0\n",
            "Method name is: tensorflow/serving/predict\n"
          ]
        }
      ]
    }
  ]
}